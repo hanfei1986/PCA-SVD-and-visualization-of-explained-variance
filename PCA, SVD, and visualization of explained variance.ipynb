{
 "cells": [
  {
   "cell_type": "code",
   "execution_count": 1,
   "metadata": {},
   "outputs": [],
   "source": [
    "import pandas as pd\n",
    "import numpy as np\n",
    "import matplotlib.pyplot as plt"
   ]
  },
  {
   "cell_type": "code",
   "execution_count": 2,
   "metadata": {},
   "outputs": [],
   "source": [
    "df = pd.read_csv('data.csv')"
   ]
  },
  {
   "cell_type": "markdown",
   "metadata": {},
   "source": [
    "## 1. Data pre-processing"
   ]
  },
  {
   "cell_type": "code",
   "execution_count": 3,
   "metadata": {},
   "outputs": [],
   "source": [
    "class Num_Transformer(object):\n",
    "\n",
    "    def fit(self,X,y=None):\n",
    "        df = pd.DataFrame()\n",
    "        df[\"cost\"] = X[\"cost\"].str.strip(\"$\").str.strip(\"k\").astype(float)*1000\n",
    "        df[\"weight\"] = X[\"weight\"].map(lambda x: x if type(x)==float else float(x.split(\" \")[0])*1000+float(x.split(\" \")[2]))\n",
    "        df[\"height\"] = X[\"height\"].str.strip(\" meters\").astype(float)\n",
    "        df[\"width\"] = X[\"width\"].str.strip(\" cm\").astype(float)\n",
    "        df[\"depth\"] = X[\"depth\"].str.strip(\" cm\").astype(float)\n",
    "        self.means = df.mean()\n",
    "    \n",
    "    def transform(self,X,y=None):\n",
    "        df = pd.DataFrame()\n",
    "        df[\"cost\"] = X[\"cost\"].str.strip(\"$\").str.strip(\"k\").astype(float)*1000\n",
    "        df[\"weight\"] = X[\"weight\"].map(lambda x: x if type(x)==float else float(x.split(\" \")[0])*1000+float(x.split(\" \")[2]))\n",
    "        df[\"height\"] = X[\"height\"].str.strip(\" meters\").astype(float)\n",
    "        df[\"width\"] = X[\"width\"].str.strip(\" cm\").astype(float)\n",
    "        df[\"depth\"] = X[\"depth\"].str.strip(\" cm\").astype(float)\n",
    "        return df.fillna(self.means)\n",
    "    \n",
    "    def fit_transform(self,X,y=None):\n",
    "        self.fit(X)\n",
    "        return self.transform(X)"
   ]
  },
  {
   "cell_type": "code",
   "execution_count": 4,
   "metadata": {},
   "outputs": [],
   "source": [
    "from sklearn.pipeline import Pipeline\n",
    "from sklearn.preprocessing import MinMaxScaler"
   ]
  },
  {
   "cell_type": "code",
   "execution_count": 5,
   "metadata": {},
   "outputs": [],
   "source": [
    "steps = [('ntf', Num_Transformer()),\n",
    "         ('rescale', MinMaxScaler())]\n",
    "model = Pipeline(steps)"
   ]
  },
  {
   "cell_type": "code",
   "execution_count": 6,
   "metadata": {},
   "outputs": [],
   "source": [
    "df = model.fit_transform(df)"
   ]
  },
  {
   "cell_type": "code",
   "execution_count": 7,
   "metadata": {},
   "outputs": [
    {
     "data": {
      "text/plain": [
       "array([[0.35031847, 0.30872483, 0.58888889, 0.30434783, 0.33333333],\n",
       "       [0.176468  , 0.26845638, 0.53888889, 0.32608696, 0.33333333],\n",
       "       [0.28343949, 0.27516779, 0.72222222, 0.2173913 , 0.16666667],\n",
       "       ...,\n",
       "       [0.176468  , 0.30201342, 0.63333333, 0.2826087 , 0.25      ],\n",
       "       [0.04352442, 0.2147651 , 0.45555556, 0.36956522, 0.33333333],\n",
       "       [0.13269639, 0.23489933, 0.7       , 0.19565217, 0.16666667]])"
      ]
     },
     "execution_count": 7,
     "metadata": {},
     "output_type": "execute_result"
    }
   ],
   "source": [
    "df"
   ]
  },
  {
   "cell_type": "markdown",
   "metadata": {},
   "source": [
    "## 2. PCA"
   ]
  },
  {
   "cell_type": "code",
   "execution_count": 8,
   "metadata": {},
   "outputs": [],
   "source": [
    "from sklearn.decomposition import PCA"
   ]
  },
  {
   "cell_type": "code",
   "execution_count": 9,
   "metadata": {},
   "outputs": [],
   "source": [
    "pca = PCA(n_components=5)\n",
    "df_pca = pca.fit_transform(df)"
   ]
  },
  {
   "cell_type": "code",
   "execution_count": 10,
   "metadata": {},
   "outputs": [
    {
     "data": {
      "text/plain": [
       "array([[-7.86602072e-02,  1.39935677e-01,  1.13296208e-01,\n",
       "         3.22659079e-02, -1.48342036e-02],\n",
       "       [-4.80201708e-02, -1.65752927e-02,  1.78382526e-02,\n",
       "         1.68878556e-02, -8.92445009e-03],\n",
       "       [-3.07464531e-01,  9.27770758e-02,  8.01450224e-02,\n",
       "        -1.36135847e-02,  1.57694662e-02],\n",
       "       ...,\n",
       "       [-1.72866442e-01,  2.42559640e-02, -1.07531260e-02,\n",
       "        -9.01542992e-03,  2.83998946e-03],\n",
       "       [ 1.57882326e-02, -1.63537173e-01, -3.33083718e-02,\n",
       "        -1.45528346e-02,  1.92686639e-03],\n",
       "       [-3.16625349e-01, -4.33696007e-02,  5.94055427e-06,\n",
       "        -5.35248337e-03,  1.58879904e-03]])"
      ]
     },
     "execution_count": 10,
     "metadata": {},
     "output_type": "execute_result"
    }
   ],
   "source": [
    "df_pca"
   ]
  },
  {
   "cell_type": "code",
   "execution_count": 11,
   "metadata": {},
   "outputs": [
    {
     "data": {
      "text/plain": [
       "array([0.58234386, 0.26898479, 0.14202916, 0.00539552, 0.00124666])"
      ]
     },
     "execution_count": 11,
     "metadata": {},
     "output_type": "execute_result"
    }
   ],
   "source": [
    "pca.explained_variance_ratio_"
   ]
  },
  {
   "cell_type": "code",
   "execution_count": 12,
   "metadata": {},
   "outputs": [
    {
     "data": {
      "text/plain": [
       "Text(0, 0.5, 'Explained Variance')"
      ]
     },
     "execution_count": 12,
     "metadata": {},
     "output_type": "execute_result"
    },
    {
     "data": {
      "image/png": "[encoded data removed]",
      "text/plain": [
       "<Figure size 640x480 with 1 Axes>"
      ]
     },
     "metadata": {},
     "output_type": "display_data"
    }
   ],
   "source": [
    "plt.bar(range(1,pca.n_components_+1), height = 100*pca.explained_variance_ratio_, label=\"Individual Component Variance\")\n",
    "plt.plot(range(1,pca.n_components_+1), np.cumsum(100*pca.explained_variance_ratio_), 'o-', color='red', label=\"Cumulative Variance\")\n",
    "plt.legend()\n",
    "plt.ylim(0,100)\n",
    "plt.xlabel(\"Nth Principal Component\")\n",
    "plt.ylabel(\"Explained Variance\")"
   ]
  },
  {
   "cell_type": "markdown",
   "metadata": {},
   "source": [
    "The following process demonstares how the transformation matrix (the basic vectors of the principle components) transforms the original features to the principal components."
   ]
  },
  {
   "cell_type": "code",
   "execution_count": 13,
   "metadata": {},
   "outputs": [
    {
     "data": {
      "text/plain": [
       "array([[ 4.70585324e-02,  1.09426325e-01, -6.30927329e-01,\n",
       "         5.37337379e-01,  5.46818636e-01],\n",
       "       [ 6.65739565e-01,  6.56065069e-01,  3.28505605e-01,\n",
       "         9.53202179e-02,  9.67862604e-02],\n",
       "       [ 7.44698580e-01, -5.93214538e-01, -2.54100048e-01,\n",
       "        -1.18891100e-01, -1.21731710e-01],\n",
       "       [ 5.89287984e-04, -2.91684548e-01,  4.21159081e-01,\n",
       "        -2.74313487e-01,  8.13816267e-01],\n",
       "       [-5.75686534e-05, -3.47305545e-01,  5.02068688e-01,\n",
       "         7.82815185e-01, -1.20441991e-01]])"
      ]
     },
     "execution_count": 13,
     "metadata": {},
     "output_type": "execute_result"
    }
   ],
   "source": [
    "new_basic_vectors = pca.components_\n",
    "new_basic_vectors"
   ]
  },
  {
   "cell_type": "code",
   "execution_count": 14,
   "metadata": {},
   "outputs": [
    {
     "data": {
      "text/plain": [
       "array([[-7.86602072e-02,  1.39935677e-01,  1.13296208e-01,\n",
       "         3.22659079e-02, -1.48342036e-02],\n",
       "       [-4.80201708e-02, -1.65752927e-02,  1.78382526e-02,\n",
       "         1.68878556e-02, -8.92445009e-03],\n",
       "       [-3.07464531e-01,  9.27770758e-02,  8.01450224e-02,\n",
       "        -1.36135847e-02,  1.57694662e-02],\n",
       "       ...,\n",
       "       [-1.72866442e-01,  2.42559640e-02, -1.07531260e-02,\n",
       "        -9.01542992e-03,  2.83998946e-03],\n",
       "       [ 1.57882326e-02, -1.63537173e-01, -3.33083718e-02,\n",
       "        -1.45528346e-02,  1.92686639e-03],\n",
       "       [-3.16625349e-01, -4.33696007e-02,  5.94055427e-06,\n",
       "        -5.35248337e-03,  1.58879904e-03]])"
      ]
     },
     "execution_count": 14,
     "metadata": {},
     "output_type": "execute_result"
    }
   ],
   "source": [
    "np.dot(df-np.mean(df, axis=0), new_basic_vectors.T)"
   ]
  },
  {
   "cell_type": "markdown",
   "metadata": {},
   "source": [
    "## 3. SVD"
   ]
  },
  {
   "cell_type": "code",
   "execution_count": 15,
   "metadata": {},
   "outputs": [],
   "source": [
    "from sklearn.decomposition import TruncatedSVD"
   ]
  },
  {
   "cell_type": "code",
   "execution_count": 16,
   "metadata": {},
   "outputs": [],
   "source": [
    "svd = TruncatedSVD(n_components=5)\n",
    "df_svd = svd.fit_transform(df)"
   ]
  },
  {
   "cell_type": "code",
   "execution_count": 17,
   "metadata": {},
   "outputs": [
    {
     "data": {
      "text/plain": [
       "array([[ 0.85603246, -0.09628705,  0.15556993, -0.03343355,  0.0343556 ],\n",
       "       [ 0.77921622, -0.05061398, -0.00740012, -0.03053114,  0.01811676],\n",
       "       [ 0.80018385, -0.31819144,  0.09808363, -0.03317771, -0.02087571],\n",
       "       ...,\n",
       "       [ 0.79583072, -0.17990978, -0.00509658,  0.00334753, -0.00897783],\n",
       "       [ 0.69537819,  0.02890668, -0.12910324, -0.04460557, -0.01396846],\n",
       "       [ 0.7263554 , -0.31369206, -0.04199146, -0.03237973, -0.00608057]])"
      ]
     },
     "execution_count": 17,
     "metadata": {},
     "output_type": "execute_result"
    }
   ],
   "source": [
    "df_svd"
   ]
  },
  {
   "cell_type": "code",
   "execution_count": 18,
   "metadata": {},
   "outputs": [
    {
     "data": {
      "text/plain": [
       "array([0.1578503 , 0.57495157, 0.17663807, 0.08676654, 0.00379353])"
      ]
     },
     "execution_count": 18,
     "metadata": {},
     "output_type": "execute_result"
    }
   ],
   "source": [
    "svd.explained_variance_ratio_"
   ]
  },
  {
   "cell_type": "code",
   "execution_count": 19,
   "metadata": {},
   "outputs": [
    {
     "data": {
      "text/plain": [
       "Text(0, 0.5, 'Explained Variance')"
      ]
     },
     "execution_count": 19,
     "metadata": {},
     "output_type": "execute_result"
    },
    {
     "data": {
      "image/png": "[encoded data removed]",
      "text/plain": [
       "<Figure size 640x480 with 1 Axes>"
      ]
     },
     "metadata": {},
     "output_type": "display_data"
    }
   ],
   "source": [
    "plt.bar(range(1,len(svd.explained_variance_ratio_)+1), height = 100*svd.explained_variance_ratio_, label=\"Individual Component Variance\")\n",
    "plt.plot(range(1,len(svd.explained_variance_ratio_)+1), np.cumsum(100*svd.explained_variance_ratio_), 'o-', color='red', label=\"Cumulative Variance\")\n",
    "plt.legend()\n",
    "plt.ylim(0,100)\n",
    "plt.xlabel(\"Nth Principal Component\")\n",
    "plt.ylabel(\"Explained Variance\")"
   ]
  },
  {
   "cell_type": "code",
   "execution_count": 20,
   "metadata": {},
   "outputs": [
    {
     "data": {
      "text/plain": [
       "array([[ 2.27834396e-01,  3.83451216e-01,  6.34280347e-01,\n",
       "         4.57602687e-01,  4.35137766e-01],\n",
       "       [-3.65684589e-03,  3.19859532e-02, -7.13928570e-01,\n",
       "         4.88930123e-01,  5.00216812e-01],\n",
       "       [ 9.54918218e-01,  9.16536116e-02, -1.97953986e-01,\n",
       "        -1.45544872e-01, -1.39146409e-01],\n",
       "       [-1.90287000e-01,  9.18445233e-01, -2.20198194e-01,\n",
       "        -1.93412141e-01, -1.85347542e-01],\n",
       "       [ 4.13121513e-04,  1.83776142e-04,  1.79280121e-02,\n",
       "        -7.02107933e-01,  7.11844668e-01]])"
      ]
     },
     "execution_count": 20,
     "metadata": {},
     "output_type": "execute_result"
    }
   ],
   "source": [
    "VT = svd.components_\n",
    "VT"
   ]
  },
  {
   "cell_type": "markdown",
   "metadata": {},
   "source": [
    "The following process demonstares how the decomposition process is conducted and how to get the transformed matrix."
   ]
  },
  {
   "cell_type": "code",
   "execution_count": 21,
   "metadata": {},
   "outputs": [],
   "source": [
    "U, S, Vh = np.linalg.svd(df, full_matrices=False)"
   ]
  },
  {
   "cell_type": "code",
   "execution_count": 22,
   "metadata": {},
   "outputs": [
    {
     "data": {
      "text/plain": [
       "array([[-0.01870967, -0.00778446,  0.02264518, -0.00691214,  0.03419947],\n",
       "       [-0.01703076, -0.00409196, -0.00107718, -0.00631209,  0.01803443],\n",
       "       [-0.01748903, -0.02572464,  0.01427732, -0.00685925, -0.02078084],\n",
       "       ...,\n",
       "       [-0.01739389, -0.01454506, -0.00074187,  0.00069208, -0.00893703],\n",
       "       [-0.01519837,  0.002337  , -0.01879261, -0.00922187, -0.01390498],\n",
       "       [-0.01587542, -0.02536088, -0.00611239, -0.00669427, -0.00605293]])"
      ]
     },
     "execution_count": 22,
     "metadata": {},
     "output_type": "execute_result"
    }
   ],
   "source": [
    "U"
   ]
  },
  {
   "cell_type": "code",
   "execution_count": 23,
   "metadata": {},
   "outputs": [
    {
     "data": {
      "text/plain": [
       "array([45.75347448, 12.36913314,  6.8698929 ,  4.83693153,  1.00456538])"
      ]
     },
     "execution_count": 23,
     "metadata": {},
     "output_type": "execute_result"
    }
   ],
   "source": [
    "S"
   ]
  },
  {
   "cell_type": "code",
   "execution_count": 24,
   "metadata": {},
   "outputs": [
    {
     "data": {
      "text/plain": [
       "array([[-2.27834396e-01, -3.83451216e-01, -6.34280347e-01,\n",
       "        -4.57602687e-01, -4.35137766e-01],\n",
       "       [-3.65684589e-03,  3.19859532e-02, -7.13928570e-01,\n",
       "         4.88930123e-01,  5.00216812e-01],\n",
       "       [ 9.54918218e-01,  9.16536116e-02, -1.97953986e-01,\n",
       "        -1.45544872e-01, -1.39146409e-01],\n",
       "       [-1.90287000e-01,  9.18445233e-01, -2.20198194e-01,\n",
       "        -1.93412141e-01, -1.85347542e-01],\n",
       "       [ 4.13121513e-04,  1.83776142e-04,  1.79280121e-02,\n",
       "        -7.02107933e-01,  7.11844668e-01]])"
      ]
     },
     "execution_count": 24,
     "metadata": {},
     "output_type": "execute_result"
    }
   ],
   "source": [
    "Vh"
   ]
  },
  {
   "cell_type": "code",
   "execution_count": 25,
   "metadata": {},
   "outputs": [
    {
     "data": {
      "text/plain": [
       "((3197, 5), (5,), (5, 5))"
      ]
     },
     "execution_count": 25,
     "metadata": {},
     "output_type": "execute_result"
    }
   ],
   "source": [
    "U.shape, S.shape, Vh.shape"
   ]
  },
  {
   "cell_type": "code",
   "execution_count": 26,
   "metadata": {},
   "outputs": [
    {
     "data": {
      "text/plain": [
       "True"
      ]
     },
     "execution_count": 26,
     "metadata": {},
     "output_type": "execute_result"
    }
   ],
   "source": [
    "np.allclose(df, np.dot(U*S, Vh))"
   ]
  },
  {
   "cell_type": "code",
   "execution_count": 27,
   "metadata": {},
   "outputs": [
    {
     "data": {
      "text/plain": [
       "True"
      ]
     },
     "execution_count": 27,
     "metadata": {},
     "output_type": "execute_result"
    }
   ],
   "source": [
    "np.allclose(df, np.dot(np.dot(U, np.diag(S)), Vh))"
   ]
  },
  {
   "cell_type": "code",
   "execution_count": 28,
   "metadata": {},
   "outputs": [
    {
     "data": {
      "text/plain": [
       "True"
      ]
     },
     "execution_count": 28,
     "metadata": {},
     "output_type": "execute_result"
    }
   ],
   "source": [
    "np.allclose(df, np.dot(U, np.dot(np.diag(S), Vh)))"
   ]
  },
  {
   "cell_type": "code",
   "execution_count": 29,
   "metadata": {},
   "outputs": [
    {
     "data": {
      "text/plain": [
       "array([[-0.85603246, -0.09628705,  0.15556993, -0.03343355,  0.0343556 ],\n",
       "       [-0.77921622, -0.05061398, -0.00740012, -0.03053114,  0.01811676],\n",
       "       [-0.80018385, -0.31819144,  0.09808363, -0.03317771, -0.02087571],\n",
       "       ...,\n",
       "       [-0.79583072, -0.17990978, -0.00509658,  0.00334753, -0.00897783],\n",
       "       [-0.69537819,  0.02890668, -0.12910324, -0.04460557, -0.01396846],\n",
       "       [-0.7263554 , -0.31369206, -0.04199146, -0.03237973, -0.00608057]])"
      ]
     },
     "execution_count": 29,
     "metadata": {},
     "output_type": "execute_result"
    }
   ],
   "source": [
    "np.dot(U, np.diag(S))"
   ]
  },
  {
   "cell_type": "code",
   "execution_count": 30,
   "metadata": {},
   "outputs": [],
   "source": [
    "import scipy"
   ]
  },
  {
   "cell_type": "code",
   "execution_count": 31,
   "metadata": {},
   "outputs": [],
   "source": [
    "U, S, Vh = scipy.linalg.svd(df, full_matrices=False)"
   ]
  },
  {
   "cell_type": "code",
   "execution_count": 32,
   "metadata": {},
   "outputs": [
    {
     "data": {
      "text/plain": [
       "array([[-0.01870967, -0.00778446,  0.02264518, -0.00691214,  0.03419947],\n",
       "       [-0.01703076, -0.00409196, -0.00107718, -0.00631209,  0.01803443],\n",
       "       [-0.01748903, -0.02572464,  0.01427732, -0.00685925, -0.02078084],\n",
       "       ...,\n",
       "       [-0.01739389, -0.01454506, -0.00074187,  0.00069208, -0.00893703],\n",
       "       [-0.01519837,  0.002337  , -0.01879261, -0.00922187, -0.01390498],\n",
       "       [-0.01587542, -0.02536088, -0.00611239, -0.00669427, -0.00605293]])"
      ]
     },
     "execution_count": 32,
     "metadata": {},
     "output_type": "execute_result"
    }
   ],
   "source": [
    "U"
   ]
  },
  {
   "cell_type": "code",
   "execution_count": 33,
   "metadata": {},
   "outputs": [
    {
     "data": {
      "text/plain": [
       "array([45.75347448, 12.36913314,  6.8698929 ,  4.83693153,  1.00456538])"
      ]
     },
     "execution_count": 33,
     "metadata": {},
     "output_type": "execute_result"
    }
   ],
   "source": [
    "S"
   ]
  },
  {
   "cell_type": "code",
   "execution_count": 34,
   "metadata": {},
   "outputs": [
    {
     "data": {
      "text/plain": [
       "array([[-2.27834396e-01, -3.83451216e-01, -6.34280347e-01,\n",
       "        -4.57602687e-01, -4.35137766e-01],\n",
       "       [-3.65684589e-03,  3.19859532e-02, -7.13928570e-01,\n",
       "         4.88930123e-01,  5.00216812e-01],\n",
       "       [ 9.54918218e-01,  9.16536116e-02, -1.97953986e-01,\n",
       "        -1.45544872e-01, -1.39146409e-01],\n",
       "       [-1.90287000e-01,  9.18445233e-01, -2.20198194e-01,\n",
       "        -1.93412141e-01, -1.85347542e-01],\n",
       "       [ 4.13121513e-04,  1.83776142e-04,  1.79280121e-02,\n",
       "        -7.02107933e-01,  7.11844668e-01]])"
      ]
     },
     "execution_count": 34,
     "metadata": {},
     "output_type": "execute_result"
    }
   ],
   "source": [
    "Vh"
   ]
  },
  {
   "cell_type": "code",
   "execution_count": 35,
   "metadata": {},
   "outputs": [
    {
     "data": {
      "text/plain": [
       "((3197, 5), (5,), (5, 5))"
      ]
     },
     "execution_count": 35,
     "metadata": {},
     "output_type": "execute_result"
    }
   ],
   "source": [
    "U.shape, S.shape, Vh.shape"
   ]
  },
  {
   "cell_type": "code",
   "execution_count": 36,
   "metadata": {},
   "outputs": [
    {
     "data": {
      "text/plain": [
       "True"
      ]
     },
     "execution_count": 36,
     "metadata": {},
     "output_type": "execute_result"
    }
   ],
   "source": [
    "np.allclose(df, np.dot(U*S, Vh))"
   ]
  },
  {
   "cell_type": "code",
   "execution_count": 37,
   "metadata": {},
   "outputs": [
    {
     "data": {
      "text/plain": [
       "True"
      ]
     },
     "execution_count": 37,
     "metadata": {},
     "output_type": "execute_result"
    }
   ],
   "source": [
    "np.allclose(df, np.dot(np.dot(U, np.diag(S)), Vh))"
   ]
  },
  {
   "cell_type": "code",
   "execution_count": 38,
   "metadata": {},
   "outputs": [
    {
     "data": {
      "text/plain": [
       "True"
      ]
     },
     "execution_count": 38,
     "metadata": {},
     "output_type": "execute_result"
    }
   ],
   "source": [
    "np.allclose(df, np.dot(U, np.dot(np.diag(S), Vh)))"
   ]
  },
  {
   "cell_type": "code",
   "execution_count": 39,
   "metadata": {},
   "outputs": [
    {
     "data": {
      "text/plain": [
       "array([[-0.85603246, -0.09628705,  0.15556993, -0.03343355,  0.0343556 ],\n",
       "       [-0.77921622, -0.05061398, -0.00740012, -0.03053114,  0.01811676],\n",
       "       [-0.80018385, -0.31819144,  0.09808363, -0.03317771, -0.02087571],\n",
       "       ...,\n",
       "       [-0.79583072, -0.17990978, -0.00509658,  0.00334753, -0.00897783],\n",
       "       [-0.69537819,  0.02890668, -0.12910324, -0.04460557, -0.01396846],\n",
       "       [-0.7263554 , -0.31369206, -0.04199146, -0.03237973, -0.00608057]])"
      ]
     },
     "execution_count": 39,
     "metadata": {},
     "output_type": "execute_result"
    }
   ],
   "source": [
    "np.dot(U, np.diag(S))"
   ]
  },
  {
   "cell_type": "markdown",
   "metadata": {},
   "source": [
    "If truncate the first 4 singular values."
   ]
  },
  {
   "cell_type": "code",
   "execution_count": 40,
   "metadata": {},
   "outputs": [
    {
     "data": {
      "text/plain": [
       "array([[-0.01870967, -0.00778446,  0.02264518, -0.00691214],\n",
       "       [-0.01703076, -0.00409196, -0.00107718, -0.00631209],\n",
       "       [-0.01748903, -0.02572464,  0.01427732, -0.00685925],\n",
       "       ...,\n",
       "       [-0.01739389, -0.01454506, -0.00074187,  0.00069208],\n",
       "       [-0.01519837,  0.002337  , -0.01879261, -0.00922187],\n",
       "       [-0.01587542, -0.02536088, -0.00611239, -0.00669427]])"
      ]
     },
     "execution_count": 40,
     "metadata": {},
     "output_type": "execute_result"
    }
   ],
   "source": [
    "U_truncated = U[:,:4]\n",
    "U_truncated"
   ]
  },
  {
   "cell_type": "code",
   "execution_count": 41,
   "metadata": {},
   "outputs": [
    {
     "data": {
      "text/plain": [
       "array([45.75347448, 12.36913314,  6.8698929 ,  4.83693153])"
      ]
     },
     "execution_count": 41,
     "metadata": {},
     "output_type": "execute_result"
    }
   ],
   "source": [
    "S_truncated = S[:4]\n",
    "S_truncated"
   ]
  },
  {
   "cell_type": "code",
   "execution_count": 42,
   "metadata": {},
   "outputs": [
    {
     "data": {
      "text/plain": [
       "array([[-0.85603246, -0.09628705,  0.15556993, -0.03343355],\n",
       "       [-0.77921622, -0.05061398, -0.00740012, -0.03053114],\n",
       "       [-0.80018385, -0.31819144,  0.09808363, -0.03317771],\n",
       "       ...,\n",
       "       [-0.79583072, -0.17990978, -0.00509658,  0.00334753],\n",
       "       [-0.69537819,  0.02890668, -0.12910324, -0.04460557],\n",
       "       [-0.7263554 , -0.31369206, -0.04199146, -0.03237973]])"
      ]
     },
     "execution_count": 42,
     "metadata": {},
     "output_type": "execute_result"
    }
   ],
   "source": [
    "np.dot(U_truncated, np.diag(S_truncated))"
   ]
  }
 ],
 "metadata": {
  "kernelspec": {
   "display_name": "base",
   "language": "python",
   "name": "python3"
  },
  "language_info": {
   "codemirror_mode": {
    "name": "ipython",
    "version": 3
   },
   "file_extension": ".py",
   "mimetype": "text/x-python",
   "name": "python",
   "nbconvert_exporter": "python",
   "pygments_lexer": "ipython3",
   "version": "3.11.4"
  },
  "orig_nbformat": 4
 },
 "nbformat": 4,
 "nbformat_minor": 2
}
