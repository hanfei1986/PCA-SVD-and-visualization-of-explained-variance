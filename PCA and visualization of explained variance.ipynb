{
 "cells": [
  {
   "cell_type": "code",
   "execution_count": 1,
   "metadata": {},
   "outputs": [],
   "source": [
    "import pandas as pd\n",
    "import numpy as np\n",
    "import matplotlib.pyplot as plt"
   ]
  },
  {
   "cell_type": "code",
   "execution_count": 2,
   "metadata": {},
   "outputs": [],
   "source": [
    "df = pd.read_csv('data.csv')"
   ]
  },
  {
   "cell_type": "code",
   "execution_count": 3,
   "metadata": {},
   "outputs": [],
   "source": [
    "class Num_Transformer(object):\n",
    "\n",
    "    def fit(self,X,y=None):\n",
    "        df = pd.DataFrame()\n",
    "        df[\"cost\"] = X[\"cost\"].str.strip(\"$\").str.strip(\"k\").astype(float)*1000\n",
    "        df[\"weight\"] = X[\"weight\"].map(lambda x: x if type(x)==float else float(x.split(\" \")[0])*1000+float(x.split(\" \")[2]))\n",
    "        df[\"height\"] = X[\"height\"].str.strip(\" meters\").astype(float)\n",
    "        df[\"width\"] = X[\"width\"].str.strip(\" cm\").astype(float)\n",
    "        df[\"depth\"] = X[\"depth\"].str.strip(\" cm\").astype(float)\n",
    "        self.means = df.mean()\n",
    "    \n",
    "    def transform(self,X,y=None):\n",
    "        df = pd.DataFrame()\n",
    "        df[\"cost\"] = X[\"cost\"].str.strip(\"$\").str.strip(\"k\").astype(float)*1000\n",
    "        df[\"weight\"] = X[\"weight\"].map(lambda x: x if type(x)==float else float(x.split(\" \")[0])*1000+float(x.split(\" \")[2]))\n",
    "        df[\"height\"] = X[\"height\"].str.strip(\" meters\").astype(float)\n",
    "        df[\"width\"] = X[\"width\"].str.strip(\" cm\").astype(float)\n",
    "        df[\"depth\"] = X[\"depth\"].str.strip(\" cm\").astype(float)\n",
    "        return df.fillna(self.means)\n",
    "    \n",
    "    def fit_transform(self,X,y=None):\n",
    "        self.fit(X)\n",
    "        return self.transform(X)"
   ]
  },
  {
   "cell_type": "code",
   "execution_count": 4,
   "metadata": {},
   "outputs": [],
   "source": [
    "from sklearn.pipeline import Pipeline\n",
    "from sklearn.preprocessing import MinMaxScaler"
   ]
  },
  {
   "cell_type": "code",
   "execution_count": 5,
   "metadata": {},
   "outputs": [],
   "source": [
    "steps = [('ntf', Num_Transformer()),\n",
    "         ('rescale', MinMaxScaler())]\n",
    "model = Pipeline(steps)"
   ]
  },
  {
   "cell_type": "code",
   "execution_count": 6,
   "metadata": {},
   "outputs": [],
   "source": [
    "df = model.fit_transform(df)"
   ]
  },
  {
   "cell_type": "code",
   "execution_count": 7,
   "metadata": {},
   "outputs": [
    {
     "data": {
      "text/plain": [
       "array([[0.35031847, 0.30872483, 0.58888889, 0.30434783, 0.33333333],\n",
       "       [0.176468  , 0.26845638, 0.53888889, 0.32608696, 0.33333333],\n",
       "       [0.28343949, 0.27516779, 0.72222222, 0.2173913 , 0.16666667],\n",
       "       ...,\n",
       "       [0.176468  , 0.30201342, 0.63333333, 0.2826087 , 0.25      ],\n",
       "       [0.04352442, 0.2147651 , 0.45555556, 0.36956522, 0.33333333],\n",
       "       [0.13269639, 0.23489933, 0.7       , 0.19565217, 0.16666667]])"
      ]
     },
     "execution_count": 7,
     "metadata": {},
     "output_type": "execute_result"
    }
   ],
   "source": [
    "df"
   ]
  },
  {
   "cell_type": "code",
   "execution_count": 8,
   "metadata": {},
   "outputs": [],
   "source": [
    "from sklearn.decomposition import PCA"
   ]
  },
  {
   "cell_type": "code",
   "execution_count": 9,
   "metadata": {},
   "outputs": [],
   "source": [
    "pca = PCA()\n",
    "df_pca = pca.fit_transform(df)"
   ]
  },
  {
   "cell_type": "code",
   "execution_count": 10,
   "metadata": {},
   "outputs": [
    {
     "data": {
      "text/plain": [
       "array([[-7.86602072e-02,  1.39935677e-01,  1.13296208e-01,\n",
       "         3.22659079e-02, -1.48342036e-02],\n",
       "       [-4.80201708e-02, -1.65752927e-02,  1.78382526e-02,\n",
       "         1.68878556e-02, -8.92445009e-03],\n",
       "       [-3.07464531e-01,  9.27770758e-02,  8.01450224e-02,\n",
       "        -1.36135847e-02,  1.57694662e-02],\n",
       "       ...,\n",
       "       [-1.72866442e-01,  2.42559640e-02, -1.07531260e-02,\n",
       "        -9.01542992e-03,  2.83998946e-03],\n",
       "       [ 1.57882326e-02, -1.63537173e-01, -3.33083718e-02,\n",
       "        -1.45528346e-02,  1.92686639e-03],\n",
       "       [-3.16625349e-01, -4.33696007e-02,  5.94055427e-06,\n",
       "        -5.35248337e-03,  1.58879904e-03]])"
      ]
     },
     "execution_count": 10,
     "metadata": {},
     "output_type": "execute_result"
    }
   ],
   "source": [
    "df_pca"
   ]
  },
  {
   "cell_type": "code",
   "execution_count": 11,
   "metadata": {},
   "outputs": [
    {
     "data": {
      "text/plain": [
       "array([0.58234386, 0.26898479, 0.14202916, 0.00539552, 0.00124666])"
      ]
     },
     "execution_count": 11,
     "metadata": {},
     "output_type": "execute_result"
    }
   ],
   "source": [
    "pca.explained_variance_ratio_"
   ]
  },
  {
   "cell_type": "code",
   "execution_count": 12,
   "metadata": {},
   "outputs": [
    {
     "data": {
      "text/plain": [
       "Text(0, 0.5, 'Explained Variance')"
      ]
     },
     "execution_count": 12,
     "metadata": {},
     "output_type": "execute_result"
    },
    {
     "data": {
      "image/png": "[encoded data removed]",
      "text/plain": [
       "<Figure size 640x480 with 1 Axes>"
      ]
     },
     "metadata": {},
     "output_type": "display_data"
    }
   ],
   "source": [
    "plt.bar(range(1,pca.n_components_+1), height = 100*pca.explained_variance_ratio_, label=\"Individual Component Variance\")\n",
    "plt.plot(range(1,pca.n_components_+1), np.cumsum(100*pca.explained_variance_ratio_), 'o-', color='red', label=\"Cumulative Variance\")\n",
    "plt.legend()\n",
    "plt.ylim(0,100)\n",
    "plt.xlabel(\"Nth Principal Component\")\n",
    "plt.ylabel(\"Explained Variance\")"
   ]
  },
  {
   "cell_type": "markdown",
   "metadata": {},
   "source": [
    "The following process demonstares how the transformation matrix (the basic vectors of the principle components) transforms the original features to the principal components."
   ]
  },
  {
   "cell_type": "code",
   "execution_count": 13,
   "metadata": {},
   "outputs": [
    {
     "data": {
      "text/plain": [
       "array([[-7.86602072e-02,  1.39935677e-01,  1.13296208e-01,\n",
       "         3.22659079e-02, -1.48342036e-02],\n",
       "       [-4.80201708e-02, -1.65752927e-02,  1.78382526e-02,\n",
       "         1.68878556e-02, -8.92445009e-03],\n",
       "       [-3.07464531e-01,  9.27770758e-02,  8.01450224e-02,\n",
       "        -1.36135847e-02,  1.57694662e-02],\n",
       "       ...,\n",
       "       [-1.72866442e-01,  2.42559640e-02, -1.07531260e-02,\n",
       "        -9.01542992e-03,  2.83998946e-03],\n",
       "       [ 1.57882326e-02, -1.63537173e-01, -3.33083718e-02,\n",
       "        -1.45528346e-02,  1.92686639e-03],\n",
       "       [-3.16625349e-01, -4.33696007e-02,  5.94055427e-06,\n",
       "        -5.35248337e-03,  1.58879904e-03]])"
      ]
     },
     "execution_count": 13,
     "metadata": {},
     "output_type": "execute_result"
    }
   ],
   "source": [
    "np.dot(df-np.mean(df, axis=0), pca.components_.T)"
   ]
  }
 ],
 "metadata": {
  "kernelspec": {
   "display_name": "base",
   "language": "python",
   "name": "python3"
  },
  "language_info": {
   "codemirror_mode": {
    "name": "ipython",
    "version": 3
   },
   "file_extension": ".py",
   "mimetype": "text/x-python",
   "name": "python",
   "nbconvert_exporter": "python",
   "pygments_lexer": "ipython3",
   "version": "3.11.4"
  },
  "orig_nbformat": 4
 },
 "nbformat": 4,
 "nbformat_minor": 2
}
